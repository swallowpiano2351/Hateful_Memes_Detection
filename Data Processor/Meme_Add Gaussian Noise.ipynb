{
 "cells": [
  {
   "cell_type": "code",
   "execution_count": 2,
   "id": "15688863",
   "metadata": {},
   "outputs": [],
   "source": [
    "import pandas as pd\n",
    "import numpy as np\n",
    "import os\n",
    "from PIL import Image, ImageFilter\n",
    "import random"
   ]
  },
  {
   "cell_type": "code",
   "execution_count": 2,
   "id": "5dd307cf",
   "metadata": {},
   "outputs": [],
   "source": [
    "initial_train=pd.read_json(\"C:\\\\Users\\\\yshen\\\\Documents\\\\Georgia Tech\\\\4\\\\Deep Learning\\\\pp_gau\\\\hateful_memes\\\\train.jsonl\",lines=True)"
   ]
  },
  {
   "cell_type": "code",
   "execution_count": 3,
   "id": "c9386f5f",
   "metadata": {},
   "outputs": [
    {
     "data": {
      "text/html": [
       "<div>\n",
       "<style scoped>\n",
       "    .dataframe tbody tr th:only-of-type {\n",
       "        vertical-align: middle;\n",
       "    }\n",
       "\n",
       "    .dataframe tbody tr th {\n",
       "        vertical-align: top;\n",
       "    }\n",
       "\n",
       "    .dataframe thead th {\n",
       "        text-align: right;\n",
       "    }\n",
       "</style>\n",
       "<table border=\"1\" class=\"dataframe\">\n",
       "  <thead>\n",
       "    <tr style=\"text-align: right;\">\n",
       "      <th></th>\n",
       "      <th>id</th>\n",
       "      <th>img</th>\n",
       "      <th>label</th>\n",
       "      <th>text</th>\n",
       "    </tr>\n",
       "  </thead>\n",
       "  <tbody>\n",
       "    <tr>\n",
       "      <th>0</th>\n",
       "      <td>42953</td>\n",
       "      <td>img/42953.png</td>\n",
       "      <td>0</td>\n",
       "      <td>its their character not their color that matters</td>\n",
       "    </tr>\n",
       "    <tr>\n",
       "      <th>1</th>\n",
       "      <td>23058</td>\n",
       "      <td>img/23058.png</td>\n",
       "      <td>0</td>\n",
       "      <td>don't be afraid to love again everyone is not ...</td>\n",
       "    </tr>\n",
       "    <tr>\n",
       "      <th>2</th>\n",
       "      <td>13894</td>\n",
       "      <td>img/13894.png</td>\n",
       "      <td>0</td>\n",
       "      <td>putting bows on your pet</td>\n",
       "    </tr>\n",
       "    <tr>\n",
       "      <th>3</th>\n",
       "      <td>37408</td>\n",
       "      <td>img/37408.png</td>\n",
       "      <td>0</td>\n",
       "      <td>i love everything and everybody! except for sq...</td>\n",
       "    </tr>\n",
       "    <tr>\n",
       "      <th>4</th>\n",
       "      <td>82403</td>\n",
       "      <td>img/82403.png</td>\n",
       "      <td>0</td>\n",
       "      <td>everybody loves chocolate chip cookies, even h...</td>\n",
       "    </tr>\n",
       "  </tbody>\n",
       "</table>\n",
       "</div>"
      ],
      "text/plain": [
       "      id            img  label  \\\n",
       "0  42953  img/42953.png      0   \n",
       "1  23058  img/23058.png      0   \n",
       "2  13894  img/13894.png      0   \n",
       "3  37408  img/37408.png      0   \n",
       "4  82403  img/82403.png      0   \n",
       "\n",
       "                                                text  \n",
       "0   its their character not their color that matters  \n",
       "1  don't be afraid to love again everyone is not ...  \n",
       "2                           putting bows on your pet  \n",
       "3  i love everything and everybody! except for sq...  \n",
       "4  everybody loves chocolate chip cookies, even h...  "
      ]
     },
     "execution_count": 3,
     "metadata": {},
     "output_type": "execute_result"
    }
   ],
   "source": [
    "initial_train.head()"
   ]
  },
  {
   "cell_type": "code",
   "execution_count": 16,
   "id": "a77b196d",
   "metadata": {},
   "outputs": [],
   "source": [
    "num_alter=len(initial_train)\n",
    "l=random.sample(range(0, num_alter), num_alter//2)"
   ]
  },
  {
   "cell_type": "code",
   "execution_count": 17,
   "id": "120c871a",
   "metadata": {},
   "outputs": [],
   "source": [
    "for i in l:\n",
    "    img_id=initial_train['img'][i][4:]\n",
    "    image = Image.open(\"C:\\\\Users\\\\yshen\\\\Documents\\\\Georgia Tech\\\\4\\\\Deep Learning\\\\pp_gau\\\\hateful_memes\\\\img\\\\\"+img_id)\n",
    "    imagen=image.filter(ImageFilter.GaussianBlur(0.1))\n",
    "    imagen.save(\"C:\\\\Users\\\\yshen\\\\Documents\\\\Georgia Tech\\\\4\\\\Deep Learning\\\\pp_gau\\\\gau_add\\\\\"+\"10\"+img_id)\n",
    "    \n",
    "    df=pd.DataFrame([[int(\"10\"+img_id[:5]),\"img/\"+\"10\"+img_id,initial_train['label'][i],initial_train['text'][i]]],columns=['id','img','label','text'])\n",
    "    \n",
    "    initial_train=initial_train.append(df,ignore_index=True)"
   ]
  },
  {
   "cell_type": "code",
   "execution_count": 18,
   "id": "5b80deb0",
   "metadata": {},
   "outputs": [
    {
     "data": {
      "text/plain": [
       "(12750, 4)"
      ]
     },
     "execution_count": 18,
     "metadata": {},
     "output_type": "execute_result"
    }
   ],
   "source": [
    "initial_train.shape"
   ]
  },
  {
   "cell_type": "code",
   "execution_count": 19,
   "id": "d3b03d1b",
   "metadata": {},
   "outputs": [
    {
     "data": {
      "text/html": [
       "<div>\n",
       "<style scoped>\n",
       "    .dataframe tbody tr th:only-of-type {\n",
       "        vertical-align: middle;\n",
       "    }\n",
       "\n",
       "    .dataframe tbody tr th {\n",
       "        vertical-align: top;\n",
       "    }\n",
       "\n",
       "    .dataframe thead th {\n",
       "        text-align: right;\n",
       "    }\n",
       "</style>\n",
       "<table border=\"1\" class=\"dataframe\">\n",
       "  <thead>\n",
       "    <tr style=\"text-align: right;\">\n",
       "      <th></th>\n",
       "      <th>id</th>\n",
       "      <th>img</th>\n",
       "      <th>label</th>\n",
       "      <th>text</th>\n",
       "    </tr>\n",
       "  </thead>\n",
       "  <tbody>\n",
       "    <tr>\n",
       "      <th>12745</th>\n",
       "      <td>1085461</td>\n",
       "      <td>img/1085461.png</td>\n",
       "      <td>1</td>\n",
       "      <td>racing for pink slips in africa</td>\n",
       "    </tr>\n",
       "    <tr>\n",
       "      <th>12746</th>\n",
       "      <td>1038164</td>\n",
       "      <td>img/1038164.png</td>\n",
       "      <td>0</td>\n",
       "      <td>when you max out intelligence and put nothing ...</td>\n",
       "    </tr>\n",
       "    <tr>\n",
       "      <th>12747</th>\n",
       "      <td>1094130</td>\n",
       "      <td>img/1094130.png</td>\n",
       "      <td>1</td>\n",
       "      <td>with black power comes no responsibility</td>\n",
       "    </tr>\n",
       "    <tr>\n",
       "      <th>12748</th>\n",
       "      <td>1089160</td>\n",
       "      <td>img/1089160.png</td>\n",
       "      <td>0</td>\n",
       "      <td>live your life every moment</td>\n",
       "    </tr>\n",
       "    <tr>\n",
       "      <th>12749</th>\n",
       "      <td>1037819</td>\n",
       "      <td>img/1037819.png</td>\n",
       "      <td>0</td>\n",
       "      <td>big and beautiful</td>\n",
       "    </tr>\n",
       "  </tbody>\n",
       "</table>\n",
       "</div>"
      ],
      "text/plain": [
       "            id              img  label  \\\n",
       "12745  1085461  img/1085461.png      1   \n",
       "12746  1038164  img/1038164.png      0   \n",
       "12747  1094130  img/1094130.png      1   \n",
       "12748  1089160  img/1089160.png      0   \n",
       "12749  1037819  img/1037819.png      0   \n",
       "\n",
       "                                                    text  \n",
       "12745                    racing for pink slips in africa  \n",
       "12746  when you max out intelligence and put nothing ...  \n",
       "12747           with black power comes no responsibility  \n",
       "12748                        live your life every moment  \n",
       "12749                                  big and beautiful  "
      ]
     },
     "execution_count": 19,
     "metadata": {},
     "output_type": "execute_result"
    }
   ],
   "source": [
    "initial_train.tail()"
   ]
  },
  {
   "cell_type": "code",
   "execution_count": null,
   "id": "5fb24e2d",
   "metadata": {},
   "outputs": [],
   "source": []
  }
 ],
 "metadata": {
  "kernelspec": {
   "display_name": "Python 3 (ipykernel)",
   "language": "python",
   "name": "python3"
  },
  "language_info": {
   "codemirror_mode": {
    "name": "ipython",
    "version": 3
   },
   "file_extension": ".py",
   "mimetype": "text/x-python",
   "name": "python",
   "nbconvert_exporter": "python",
   "pygments_lexer": "ipython3",
   "version": "3.8.8"
  }
 },
 "nbformat": 4,
 "nbformat_minor": 5
}

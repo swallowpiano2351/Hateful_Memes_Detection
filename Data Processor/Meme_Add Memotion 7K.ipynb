{
 "cells": [
  {
   "cell_type": "code",
   "execution_count": 1,
   "id": "6a53a2e0",
   "metadata": {},
   "outputs": [],
   "source": [
    "#This is to select additional meaningful dataset from external source Kaggle\n",
    "#Memotion Dataset 7k: https://www.kaggle.com/williamscott701/memotion-dataset-7k\n",
    "#The selected dataset will be incorporated to \"img\" folder & \"tain.jsonl\" file of the original hateful_memes dataset used during fine-tuning"
   ]
  },
  {
   "cell_type": "code",
   "execution_count": 2,
   "id": "15688863",
   "metadata": {},
   "outputs": [],
   "source": [
    "import pandas as pd\n",
    "import numpy as np\n",
    "import os\n",
    "\n",
    "labels=pd.read_excel(\"C:\\\\Users\\\\yshen\\\\Documents\\\\Georgia Tech\\\\4\\\\Deep Learning\\\\p\\\\Memotion\\\\archive\\\\memotion_dataset_7k\\\\labels.xlsx\")\n",
    "reference=pd.read_excel(\"C:\\\\Users\\\\yshen\\\\Documents\\\\Georgia Tech\\\\4\\\\Deep Learning\\\\p\\\\Memotion\\\\archive\\\\memotion_dataset_7k\\\\reference.xlsx\")"
   ]
  },
  {
   "cell_type": "code",
   "execution_count": 3,
   "id": "19f1c533",
   "metadata": {},
   "outputs": [
    {
     "data": {
      "text/html": [
       "<div>\n",
       "<style scoped>\n",
       "    .dataframe tbody tr th:only-of-type {\n",
       "        vertical-align: middle;\n",
       "    }\n",
       "\n",
       "    .dataframe tbody tr th {\n",
       "        vertical-align: top;\n",
       "    }\n",
       "\n",
       "    .dataframe thead th {\n",
       "        text-align: right;\n",
       "    }\n",
       "</style>\n",
       "<table border=\"1\" class=\"dataframe\">\n",
       "  <thead>\n",
       "    <tr style=\"text-align: right;\">\n",
       "      <th></th>\n",
       "      <th>Unnamed: 0</th>\n",
       "      <th>image_name</th>\n",
       "      <th>text_ocr</th>\n",
       "      <th>text_corrected</th>\n",
       "      <th>humour</th>\n",
       "      <th>sarcasm</th>\n",
       "      <th>offensive</th>\n",
       "      <th>motivational</th>\n",
       "      <th>overall_sentiment</th>\n",
       "    </tr>\n",
       "  </thead>\n",
       "  <tbody>\n",
       "    <tr>\n",
       "      <th>0</th>\n",
       "      <td>0</td>\n",
       "      <td>image_1.jpg</td>\n",
       "      <td>LOOK THERE MY FRIEND LIGHTYEAR NOW ALL SOHALIK...</td>\n",
       "      <td>LOOK THERE MY FRIEND LIGHTYEAR NOW ALL SOHALIK...</td>\n",
       "      <td>hilarious</td>\n",
       "      <td>general</td>\n",
       "      <td>not_offensive</td>\n",
       "      <td>not_motivational</td>\n",
       "      <td>very_positive</td>\n",
       "    </tr>\n",
       "    <tr>\n",
       "      <th>1</th>\n",
       "      <td>1</td>\n",
       "      <td>image_2.jpeg</td>\n",
       "      <td>The best of #10 YearChallenge! Completed in le...</td>\n",
       "      <td>The best of #10 YearChallenge! Completed in le...</td>\n",
       "      <td>not_funny</td>\n",
       "      <td>general</td>\n",
       "      <td>not_offensive</td>\n",
       "      <td>motivational</td>\n",
       "      <td>very_positive</td>\n",
       "    </tr>\n",
       "    <tr>\n",
       "      <th>2</th>\n",
       "      <td>2</td>\n",
       "      <td>image_3.JPG</td>\n",
       "      <td>Sam Thorne @Strippin ( Follow Follow Saw every...</td>\n",
       "      <td>Sam Thorne @Strippin ( Follow Follow Saw every...</td>\n",
       "      <td>very_funny</td>\n",
       "      <td>not_sarcastic</td>\n",
       "      <td>not_offensive</td>\n",
       "      <td>not_motivational</td>\n",
       "      <td>positive</td>\n",
       "    </tr>\n",
       "    <tr>\n",
       "      <th>3</th>\n",
       "      <td>3</td>\n",
       "      <td>image_4.png</td>\n",
       "      <td>10 Year Challenge - Sweet Dee Edition</td>\n",
       "      <td>10 Year Challenge - Sweet Dee Edition</td>\n",
       "      <td>very_funny</td>\n",
       "      <td>twisted_meaning</td>\n",
       "      <td>very_offensive</td>\n",
       "      <td>motivational</td>\n",
       "      <td>positive</td>\n",
       "    </tr>\n",
       "    <tr>\n",
       "      <th>4</th>\n",
       "      <td>4</td>\n",
       "      <td>image_5.png</td>\n",
       "      <td>10 YEAR CHALLENGE WITH NO FILTER 47 Hilarious ...</td>\n",
       "      <td>10 YEAR CHALLENGE WITH NO FILTER 47 Hilarious ...</td>\n",
       "      <td>hilarious</td>\n",
       "      <td>very_twisted</td>\n",
       "      <td>very_offensive</td>\n",
       "      <td>not_motivational</td>\n",
       "      <td>neutral</td>\n",
       "    </tr>\n",
       "  </tbody>\n",
       "</table>\n",
       "</div>"
      ],
      "text/plain": [
       "   Unnamed: 0    image_name  \\\n",
       "0           0   image_1.jpg   \n",
       "1           1  image_2.jpeg   \n",
       "2           2   image_3.JPG   \n",
       "3           3   image_4.png   \n",
       "4           4   image_5.png   \n",
       "\n",
       "                                            text_ocr  \\\n",
       "0  LOOK THERE MY FRIEND LIGHTYEAR NOW ALL SOHALIK...   \n",
       "1  The best of #10 YearChallenge! Completed in le...   \n",
       "2  Sam Thorne @Strippin ( Follow Follow Saw every...   \n",
       "3              10 Year Challenge - Sweet Dee Edition   \n",
       "4  10 YEAR CHALLENGE WITH NO FILTER 47 Hilarious ...   \n",
       "\n",
       "                                      text_corrected      humour  \\\n",
       "0  LOOK THERE MY FRIEND LIGHTYEAR NOW ALL SOHALIK...   hilarious   \n",
       "1  The best of #10 YearChallenge! Completed in le...   not_funny   \n",
       "2  Sam Thorne @Strippin ( Follow Follow Saw every...  very_funny   \n",
       "3              10 Year Challenge - Sweet Dee Edition  very_funny   \n",
       "4  10 YEAR CHALLENGE WITH NO FILTER 47 Hilarious ...   hilarious   \n",
       "\n",
       "           sarcasm       offensive      motivational overall_sentiment  \n",
       "0          general   not_offensive  not_motivational     very_positive  \n",
       "1          general   not_offensive      motivational     very_positive  \n",
       "2    not_sarcastic   not_offensive  not_motivational          positive  \n",
       "3  twisted_meaning  very_offensive      motivational          positive  \n",
       "4     very_twisted  very_offensive  not_motivational           neutral  "
      ]
     },
     "execution_count": 3,
     "metadata": {},
     "output_type": "execute_result"
    }
   ],
   "source": [
    "labels.head()"
   ]
  },
  {
   "cell_type": "code",
   "execution_count": 4,
   "id": "0ea8a343",
   "metadata": {},
   "outputs": [
    {
     "data": {
      "text/html": [
       "<div>\n",
       "<style scoped>\n",
       "    .dataframe tbody tr th:only-of-type {\n",
       "        vertical-align: middle;\n",
       "    }\n",
       "\n",
       "    .dataframe tbody tr th {\n",
       "        vertical-align: top;\n",
       "    }\n",
       "\n",
       "    .dataframe thead th {\n",
       "        text-align: right;\n",
       "    }\n",
       "</style>\n",
       "<table border=\"1\" class=\"dataframe\">\n",
       "  <thead>\n",
       "    <tr style=\"text-align: right;\">\n",
       "      <th></th>\n",
       "      <th>Unnamed: 0</th>\n",
       "      <th>original_name</th>\n",
       "      <th>image_url</th>\n",
       "      <th>image_name</th>\n",
       "    </tr>\n",
       "  </thead>\n",
       "  <tbody>\n",
       "    <tr>\n",
       "      <th>0</th>\n",
       "      <td>0</td>\n",
       "      <td>10_year_2r94rv.jpg</td>\n",
       "      <td>https://i.imgflip.com/2r94rv.jpg</td>\n",
       "      <td>image_1.jpg</td>\n",
       "    </tr>\n",
       "    <tr>\n",
       "      <th>1</th>\n",
       "      <td>1</td>\n",
       "      <td>10_year_10-year-challenge_1547788782.jpeg</td>\n",
       "      <td>https://spiderimg.amarujala.com/assets/images/...</td>\n",
       "      <td>image_2.jpeg</td>\n",
       "    </tr>\n",
       "    <tr>\n",
       "      <th>2</th>\n",
       "      <td>2</td>\n",
       "      <td>10_year_10yearchallenge-5c75f8b946e0fb0001edc7...</td>\n",
       "      <td>https://www.lifewire.com/thmb/8wNfd94_meE9X2cp...</td>\n",
       "      <td>image_3.JPG</td>\n",
       "    </tr>\n",
       "    <tr>\n",
       "      <th>3</th>\n",
       "      <td>3</td>\n",
       "      <td>10_year_10-year-challenge-sweet-dee-edition-40...</td>\n",
       "      <td>https://pics.conservativememes.com/10-year-cha...</td>\n",
       "      <td>image_4.png</td>\n",
       "    </tr>\n",
       "    <tr>\n",
       "      <th>4</th>\n",
       "      <td>4</td>\n",
       "      <td>10_year_10-year-challenge-with-no-filter-47-hi...</td>\n",
       "      <td>https://pics.me.me/10-year-challenge-with-no-f...</td>\n",
       "      <td>image_5.png</td>\n",
       "    </tr>\n",
       "  </tbody>\n",
       "</table>\n",
       "</div>"
      ],
      "text/plain": [
       "   Unnamed: 0                                      original_name  \\\n",
       "0           0                                 10_year_2r94rv.jpg   \n",
       "1           1          10_year_10-year-challenge_1547788782.jpeg   \n",
       "2           2  10_year_10yearchallenge-5c75f8b946e0fb0001edc7...   \n",
       "3           3  10_year_10-year-challenge-sweet-dee-edition-40...   \n",
       "4           4  10_year_10-year-challenge-with-no-filter-47-hi...   \n",
       "\n",
       "                                           image_url    image_name  \n",
       "0                   https://i.imgflip.com/2r94rv.jpg   image_1.jpg  \n",
       "1  https://spiderimg.amarujala.com/assets/images/...  image_2.jpeg  \n",
       "2  https://www.lifewire.com/thmb/8wNfd94_meE9X2cp...   image_3.JPG  \n",
       "3  https://pics.conservativememes.com/10-year-cha...   image_4.png  \n",
       "4  https://pics.me.me/10-year-challenge-with-no-f...   image_5.png  "
      ]
     },
     "execution_count": 4,
     "metadata": {},
     "output_type": "execute_result"
    }
   ],
   "source": [
    "reference.head()"
   ]
  },
  {
   "cell_type": "code",
   "execution_count": 5,
   "id": "1a710e77",
   "metadata": {},
   "outputs": [
    {
     "data": {
      "text/html": [
       "<div>\n",
       "<style scoped>\n",
       "    .dataframe tbody tr th:only-of-type {\n",
       "        vertical-align: middle;\n",
       "    }\n",
       "\n",
       "    .dataframe tbody tr th {\n",
       "        vertical-align: top;\n",
       "    }\n",
       "\n",
       "    .dataframe thead th {\n",
       "        text-align: right;\n",
       "    }\n",
       "</style>\n",
       "<table border=\"1\" class=\"dataframe\">\n",
       "  <thead>\n",
       "    <tr style=\"text-align: right;\">\n",
       "      <th></th>\n",
       "      <th>offensive</th>\n",
       "      <th>Agg</th>\n",
       "    </tr>\n",
       "  </thead>\n",
       "  <tbody>\n",
       "    <tr>\n",
       "      <th>0</th>\n",
       "      <td>hateful_offensive</td>\n",
       "      <td>221</td>\n",
       "    </tr>\n",
       "    <tr>\n",
       "      <th>1</th>\n",
       "      <td>not_offensive</td>\n",
       "      <td>2713</td>\n",
       "    </tr>\n",
       "    <tr>\n",
       "      <th>2</th>\n",
       "      <td>slight</td>\n",
       "      <td>2592</td>\n",
       "    </tr>\n",
       "    <tr>\n",
       "      <th>3</th>\n",
       "      <td>very_offensive</td>\n",
       "      <td>1466</td>\n",
       "    </tr>\n",
       "  </tbody>\n",
       "</table>\n",
       "</div>"
      ],
      "text/plain": [
       "           offensive   Agg\n",
       "0  hateful_offensive   221\n",
       "1      not_offensive  2713\n",
       "2             slight  2592\n",
       "3     very_offensive  1466"
      ]
     },
     "execution_count": 5,
     "metadata": {},
     "output_type": "execute_result"
    }
   ],
   "source": [
    "labels.groupby(['offensive'],as_index=False)['offensive'].agg({'Agg':'count'})"
   ]
  },
  {
   "cell_type": "code",
   "execution_count": 6,
   "id": "a7e79026",
   "metadata": {},
   "outputs": [
    {
     "data": {
      "text/html": [
       "<div>\n",
       "<style scoped>\n",
       "    .dataframe tbody tr th:only-of-type {\n",
       "        vertical-align: middle;\n",
       "    }\n",
       "\n",
       "    .dataframe tbody tr th {\n",
       "        vertical-align: top;\n",
       "    }\n",
       "\n",
       "    .dataframe thead th {\n",
       "        text-align: right;\n",
       "    }\n",
       "</style>\n",
       "<table border=\"1\" class=\"dataframe\">\n",
       "  <thead>\n",
       "    <tr style=\"text-align: right;\">\n",
       "      <th></th>\n",
       "      <th>sarcasm</th>\n",
       "      <th>Agg</th>\n",
       "    </tr>\n",
       "  </thead>\n",
       "  <tbody>\n",
       "    <tr>\n",
       "      <th>0</th>\n",
       "      <td>general</td>\n",
       "      <td>3507</td>\n",
       "    </tr>\n",
       "    <tr>\n",
       "      <th>1</th>\n",
       "      <td>not_sarcastic</td>\n",
       "      <td>1544</td>\n",
       "    </tr>\n",
       "    <tr>\n",
       "      <th>2</th>\n",
       "      <td>twisted_meaning</td>\n",
       "      <td>1547</td>\n",
       "    </tr>\n",
       "    <tr>\n",
       "      <th>3</th>\n",
       "      <td>very_twisted</td>\n",
       "      <td>394</td>\n",
       "    </tr>\n",
       "  </tbody>\n",
       "</table>\n",
       "</div>"
      ],
      "text/plain": [
       "           sarcasm   Agg\n",
       "0          general  3507\n",
       "1    not_sarcastic  1544\n",
       "2  twisted_meaning  1547\n",
       "3     very_twisted   394"
      ]
     },
     "execution_count": 6,
     "metadata": {},
     "output_type": "execute_result"
    }
   ],
   "source": [
    "labels.groupby(['sarcasm'],as_index=False)['sarcasm'].agg({'Agg':'count'})"
   ]
  },
  {
   "cell_type": "code",
   "execution_count": 7,
   "id": "4ab40782",
   "metadata": {},
   "outputs": [
    {
     "data": {
      "text/html": [
       "<div>\n",
       "<style scoped>\n",
       "    .dataframe tbody tr th:only-of-type {\n",
       "        vertical-align: middle;\n",
       "    }\n",
       "\n",
       "    .dataframe tbody tr th {\n",
       "        vertical-align: top;\n",
       "    }\n",
       "\n",
       "    .dataframe thead th {\n",
       "        text-align: right;\n",
       "    }\n",
       "</style>\n",
       "<table border=\"1\" class=\"dataframe\">\n",
       "  <thead>\n",
       "    <tr style=\"text-align: right;\">\n",
       "      <th></th>\n",
       "      <th>overall_sentiment</th>\n",
       "      <th>Agg</th>\n",
       "    </tr>\n",
       "  </thead>\n",
       "  <tbody>\n",
       "    <tr>\n",
       "      <th>0</th>\n",
       "      <td>negative</td>\n",
       "      <td>480</td>\n",
       "    </tr>\n",
       "    <tr>\n",
       "      <th>1</th>\n",
       "      <td>neutral</td>\n",
       "      <td>2201</td>\n",
       "    </tr>\n",
       "    <tr>\n",
       "      <th>2</th>\n",
       "      <td>positive</td>\n",
       "      <td>3127</td>\n",
       "    </tr>\n",
       "    <tr>\n",
       "      <th>3</th>\n",
       "      <td>very_negative</td>\n",
       "      <td>151</td>\n",
       "    </tr>\n",
       "    <tr>\n",
       "      <th>4</th>\n",
       "      <td>very_positive</td>\n",
       "      <td>1033</td>\n",
       "    </tr>\n",
       "  </tbody>\n",
       "</table>\n",
       "</div>"
      ],
      "text/plain": [
       "  overall_sentiment   Agg\n",
       "0          negative   480\n",
       "1           neutral  2201\n",
       "2          positive  3127\n",
       "3     very_negative   151\n",
       "4     very_positive  1033"
      ]
     },
     "execution_count": 7,
     "metadata": {},
     "output_type": "execute_result"
    }
   ],
   "source": [
    "labels.groupby(['overall_sentiment'],as_index=False)['overall_sentiment'].agg({'Agg':'count'})"
   ]
  },
  {
   "cell_type": "code",
   "execution_count": 86,
   "id": "0d55c9dc",
   "metadata": {},
   "outputs": [],
   "source": [
    "selected=labels[(labels['offensive']=='hateful_offensive')|(labels['overall_sentiment']=='very_negative')]"
   ]
  },
  {
   "cell_type": "code",
   "execution_count": 69,
   "id": "2af45d8a",
   "metadata": {},
   "outputs": [],
   "source": [
    "selected=selected[['image_name','text_corrected']]"
   ]
  },
  {
   "cell_type": "code",
   "execution_count": 70,
   "id": "58fe9ddc",
   "metadata": {},
   "outputs": [
    {
     "data": {
      "text/plain": [
       "(343, 2)"
      ]
     },
     "execution_count": 70,
     "metadata": {},
     "output_type": "execute_result"
    }
   ],
   "source": [
    "selected.shape"
   ]
  },
  {
   "cell_type": "code",
   "execution_count": 71,
   "id": "7b610a04",
   "metadata": {},
   "outputs": [],
   "source": [
    "selected['label']=1"
   ]
  },
  {
   "cell_type": "code",
   "execution_count": 72,
   "id": "4afde893",
   "metadata": {},
   "outputs": [
    {
     "name": "stderr",
     "output_type": "stream",
     "text": [
      "C:\\Users\\Public\\Documents\\Wondershare\\CreatorTemp/ipykernel_14280/4020979766.py:8: SettingWithCopyWarning: \n",
      "A value is trying to be set on a copy of a slice from a DataFrame\n",
      "\n",
      "See the caveats in the documentation: https://pandas.pydata.org/pandas-docs/stable/user_guide/indexing.html#returning-a-view-versus-a-copy\n",
      "  selected['img'][i]=\"img/\"+selected['image_name'][i][:-3]+\"png\"\n",
      "C:\\Users\\Public\\Documents\\Wondershare\\CreatorTemp/ipykernel_14280/4020979766.py:6: SettingWithCopyWarning: \n",
      "A value is trying to be set on a copy of a slice from a DataFrame\n",
      "\n",
      "See the caveats in the documentation: https://pandas.pydata.org/pandas-docs/stable/user_guide/indexing.html#returning-a-view-versus-a-copy\n",
      "  selected['img'][i]=\"img/\"+selected['image_name'][i]\n",
      "C:\\Users\\Public\\Documents\\Wondershare\\CreatorTemp/ipykernel_14280/4020979766.py:10: SettingWithCopyWarning: \n",
      "A value is trying to be set on a copy of a slice from a DataFrame\n",
      "\n",
      "See the caveats in the documentation: https://pandas.pydata.org/pandas-docs/stable/user_guide/indexing.html#returning-a-view-versus-a-copy\n",
      "  selected['img'][i]=\"img/\"+selected['image_name'][i][:-3]+\"png\"\n",
      "C:\\Users\\Public\\Documents\\Wondershare\\CreatorTemp/ipykernel_14280/4020979766.py:12: SettingWithCopyWarning: \n",
      "A value is trying to be set on a copy of a slice from a DataFrame\n",
      "\n",
      "See the caveats in the documentation: https://pandas.pydata.org/pandas-docs/stable/user_guide/indexing.html#returning-a-view-versus-a-copy\n",
      "  selected['img'][i]=\"img/\"+selected['image_name'][i][:-4]+\"png\"\n"
     ]
    }
   ],
   "source": [
    "selected['img']='pending'\n",
    "\n",
    "for i in selected.index.values:\n",
    "\n",
    "    if selected['image_name'][i][-3::]==\"png\":\n",
    "        selected['img'][i]=\"img/\"+selected['image_name'][i]\n",
    "    elif selected['image_name'][i][-3::]==\"jpg\":\n",
    "        selected['img'][i]=\"img/\"+selected['image_name'][i][:-3]+\"png\"\n",
    "    elif selected['image_name'][i][-3::]==\"JPG\":\n",
    "        selected['img'][i]=\"img/\"+selected['image_name'][i][:-3]+\"png\"\n",
    "    else:\n",
    "        selected['img'][i]=\"img/\"+selected['image_name'][i][:-4]+\"png\""
   ]
  },
  {
   "cell_type": "code",
   "execution_count": null,
   "id": "97788946",
   "metadata": {},
   "outputs": [],
   "source": []
  },
  {
   "cell_type": "code",
   "execution_count": 75,
   "id": "6bd1f990",
   "metadata": {},
   "outputs": [],
   "source": [
    "selected['id']=pd.Series(np.arange(98766,98766+len(selected)), index=selected.index)"
   ]
  },
  {
   "cell_type": "code",
   "execution_count": 76,
   "id": "f4f61f28",
   "metadata": {},
   "outputs": [],
   "source": [
    "selected=selected.rename(columns={\"text_corrected\": \"text\"})"
   ]
  },
  {
   "cell_type": "code",
   "execution_count": 77,
   "id": "e387afd6",
   "metadata": {},
   "outputs": [
    {
     "data": {
      "text/html": [
       "<div>\n",
       "<style scoped>\n",
       "    .dataframe tbody tr th:only-of-type {\n",
       "        vertical-align: middle;\n",
       "    }\n",
       "\n",
       "    .dataframe tbody tr th {\n",
       "        vertical-align: top;\n",
       "    }\n",
       "\n",
       "    .dataframe thead th {\n",
       "        text-align: right;\n",
       "    }\n",
       "</style>\n",
       "<table border=\"1\" class=\"dataframe\">\n",
       "  <thead>\n",
       "    <tr style=\"text-align: right;\">\n",
       "      <th></th>\n",
       "      <th>id</th>\n",
       "      <th>img</th>\n",
       "      <th>label</th>\n",
       "      <th>text</th>\n",
       "    </tr>\n",
       "  </thead>\n",
       "  <tbody>\n",
       "    <tr>\n",
       "      <th>14</th>\n",
       "      <td>98766</td>\n",
       "      <td>img/image_15.png</td>\n",
       "      <td>1</td>\n",
       "      <td>Anti-vaxx kids when they see someone doing the...</td>\n",
       "    </tr>\n",
       "    <tr>\n",
       "      <th>59</th>\n",
       "      <td>98767</td>\n",
       "      <td>img/image_60.png</td>\n",
       "      <td>1</td>\n",
       "      <td>POTATO CHIPS TORTILLA CHIPS MARVEL CAPTAIN AME...</td>\n",
       "    </tr>\n",
       "    <tr>\n",
       "      <th>91</th>\n",
       "      <td>98768</td>\n",
       "      <td>img/image_92.png</td>\n",
       "      <td>1</td>\n",
       "      <td>YOU MEAN TO TELL ME SPOONS DON'T ACTUALLY SOUN...</td>\n",
       "    </tr>\n",
       "    <tr>\n",
       "      <th>137</th>\n",
       "      <td>98769</td>\n",
       "      <td>img/image_138.png</td>\n",
       "      <td>1</td>\n",
       "      <td>IT'S YOUR BIRTHDAY.. OR ANNUAL DECLARATION OF ...</td>\n",
       "    </tr>\n",
       "    <tr>\n",
       "      <th>148</th>\n",
       "      <td>98770</td>\n",
       "      <td>img/image_149.png</td>\n",
       "      <td>1</td>\n",
       "      <td>S6E12 I can't give this suit back. Ted  I glow...</td>\n",
       "    </tr>\n",
       "  </tbody>\n",
       "</table>\n",
       "</div>"
      ],
      "text/plain": [
       "        id                img  label  \\\n",
       "14   98766   img/image_15.png      1   \n",
       "59   98767   img/image_60.png      1   \n",
       "91   98768   img/image_92.png      1   \n",
       "137  98769  img/image_138.png      1   \n",
       "148  98770  img/image_149.png      1   \n",
       "\n",
       "                                                  text  \n",
       "14   Anti-vaxx kids when they see someone doing the...  \n",
       "59   POTATO CHIPS TORTILLA CHIPS MARVEL CAPTAIN AME...  \n",
       "91   YOU MEAN TO TELL ME SPOONS DON'T ACTUALLY SOUN...  \n",
       "137  IT'S YOUR BIRTHDAY.. OR ANNUAL DECLARATION OF ...  \n",
       "148  S6E12 I can't give this suit back. Ted  I glow...  "
      ]
     },
     "execution_count": 77,
     "metadata": {},
     "output_type": "execute_result"
    }
   ],
   "source": [
    "selected=selected[['id','img','label','text']]\n",
    "selected.head()"
   ]
  },
  {
   "cell_type": "code",
   "execution_count": null,
   "id": "6ed2374b",
   "metadata": {},
   "outputs": [],
   "source": []
  },
  {
   "cell_type": "code",
   "execution_count": 78,
   "id": "54dc06bf",
   "metadata": {},
   "outputs": [],
   "source": [
    "initial_train=pd.read_json(\"C:\\\\Users\\\\yshen\\\\Documents\\\\Georgia Tech\\\\4\\\\Deep Learning\\\\p\\\\hateful_memes\\\\train.jsonl\",lines=True)"
   ]
  },
  {
   "cell_type": "code",
   "execution_count": 79,
   "id": "0ed826e2",
   "metadata": {},
   "outputs": [],
   "source": [
    "initial_train=initial_train.sort_values(['id'],ascending=0)"
   ]
  },
  {
   "cell_type": "code",
   "execution_count": 80,
   "id": "5eb90b1f",
   "metadata": {},
   "outputs": [
    {
     "data": {
      "text/html": [
       "<div>\n",
       "<style scoped>\n",
       "    .dataframe tbody tr th:only-of-type {\n",
       "        vertical-align: middle;\n",
       "    }\n",
       "\n",
       "    .dataframe tbody tr th {\n",
       "        vertical-align: top;\n",
       "    }\n",
       "\n",
       "    .dataframe thead th {\n",
       "        text-align: right;\n",
       "    }\n",
       "</style>\n",
       "<table border=\"1\" class=\"dataframe\">\n",
       "  <thead>\n",
       "    <tr style=\"text-align: right;\">\n",
       "      <th></th>\n",
       "      <th>id</th>\n",
       "      <th>img</th>\n",
       "      <th>label</th>\n",
       "      <th>text</th>\n",
       "    </tr>\n",
       "  </thead>\n",
       "  <tbody>\n",
       "    <tr>\n",
       "      <th>565</th>\n",
       "      <td>98764</td>\n",
       "      <td>img/98764.png</td>\n",
       "      <td>0</td>\n",
       "      <td>african kids dancing and celebrating</td>\n",
       "    </tr>\n",
       "    <tr>\n",
       "      <th>7326</th>\n",
       "      <td>98762</td>\n",
       "      <td>img/98762.png</td>\n",
       "      <td>0</td>\n",
       "      <td>child in poverty with empty water jug</td>\n",
       "    </tr>\n",
       "    <tr>\n",
       "      <th>1789</th>\n",
       "      <td>98756</td>\n",
       "      <td>img/98756.png</td>\n",
       "      <td>1</td>\n",
       "      <td>this dude wants to use the same restroom as yo...</td>\n",
       "    </tr>\n",
       "    <tr>\n",
       "      <th>4994</th>\n",
       "      <td>98754</td>\n",
       "      <td>img/98754.png</td>\n",
       "      <td>1</td>\n",
       "      <td>400 years of slavery rape and murder but now s...</td>\n",
       "    </tr>\n",
       "    <tr>\n",
       "      <th>5894</th>\n",
       "      <td>98752</td>\n",
       "      <td>img/98752.png</td>\n",
       "      <td>0</td>\n",
       "      <td>shut up ontario</td>\n",
       "    </tr>\n",
       "  </tbody>\n",
       "</table>\n",
       "</div>"
      ],
      "text/plain": [
       "         id            img  label  \\\n",
       "565   98764  img/98764.png      0   \n",
       "7326  98762  img/98762.png      0   \n",
       "1789  98756  img/98756.png      1   \n",
       "4994  98754  img/98754.png      1   \n",
       "5894  98752  img/98752.png      0   \n",
       "\n",
       "                                                   text  \n",
       "565                african kids dancing and celebrating  \n",
       "7326              child in poverty with empty water jug  \n",
       "1789  this dude wants to use the same restroom as yo...  \n",
       "4994  400 years of slavery rape and murder but now s...  \n",
       "5894                                    shut up ontario  "
      ]
     },
     "execution_count": 80,
     "metadata": {},
     "output_type": "execute_result"
    }
   ],
   "source": [
    "initial_train.head()"
   ]
  },
  {
   "cell_type": "code",
   "execution_count": null,
   "id": "ca6386ff",
   "metadata": {},
   "outputs": [],
   "source": []
  },
  {
   "cell_type": "code",
   "execution_count": 81,
   "id": "0f81a33e",
   "metadata": {},
   "outputs": [],
   "source": [
    "aug_train=pd.concat([initial_train,selected])"
   ]
  },
  {
   "cell_type": "code",
   "execution_count": 82,
   "id": "ea00696a",
   "metadata": {},
   "outputs": [],
   "source": [
    "aug_train=aug_train.sort_values(['id'],ascending=0)"
   ]
  },
  {
   "cell_type": "code",
   "execution_count": 83,
   "id": "f69ac5bf",
   "metadata": {},
   "outputs": [
    {
     "data": {
      "text/html": [
       "<div>\n",
       "<style scoped>\n",
       "    .dataframe tbody tr th:only-of-type {\n",
       "        vertical-align: middle;\n",
       "    }\n",
       "\n",
       "    .dataframe tbody tr th {\n",
       "        vertical-align: top;\n",
       "    }\n",
       "\n",
       "    .dataframe thead th {\n",
       "        text-align: right;\n",
       "    }\n",
       "</style>\n",
       "<table border=\"1\" class=\"dataframe\">\n",
       "  <thead>\n",
       "    <tr style=\"text-align: right;\">\n",
       "      <th></th>\n",
       "      <th>id</th>\n",
       "      <th>img</th>\n",
       "      <th>label</th>\n",
       "      <th>text</th>\n",
       "    </tr>\n",
       "  </thead>\n",
       "  <tbody>\n",
       "    <tr>\n",
       "      <th>6984</th>\n",
       "      <td>99108</td>\n",
       "      <td>img/image_6985.png</td>\n",
       "      <td>1</td>\n",
       "      <td>YOU'RE THE BEST AROUND. NOTHING'S EVER GONNA K...</td>\n",
       "    </tr>\n",
       "    <tr>\n",
       "      <th>6961</th>\n",
       "      <td>99107</td>\n",
       "      <td>img/image_6962.png</td>\n",
       "      <td>1</td>\n",
       "      <td>NIGHTMARES Are made of this.</td>\n",
       "    </tr>\n",
       "    <tr>\n",
       "      <th>6935</th>\n",
       "      <td>99106</td>\n",
       "      <td>img/image_6936.png</td>\n",
       "      <td>1</td>\n",
       "      <td>. - DC OR MARVEL? MEME MADE BY THE FB PG DC/MA...</td>\n",
       "    </tr>\n",
       "    <tr>\n",
       "      <th>6915</th>\n",
       "      <td>99105</td>\n",
       "      <td>img/image_6916.png</td>\n",
       "      <td>1</td>\n",
       "      <td>EUROPE We have to cancel this match Snowing is...</td>\n",
       "    </tr>\n",
       "    <tr>\n",
       "      <th>6913</th>\n",
       "      <td>99104</td>\n",
       "      <td>img/image_6914.png</td>\n",
       "      <td>1</td>\n",
       "      <td>DAD. WHAT'S TAKING THE GAME WINNING SHOT? I DO...</td>\n",
       "    </tr>\n",
       "  </tbody>\n",
       "</table>\n",
       "</div>"
      ],
      "text/plain": [
       "         id                 img  label  \\\n",
       "6984  99108  img/image_6985.png      1   \n",
       "6961  99107  img/image_6962.png      1   \n",
       "6935  99106  img/image_6936.png      1   \n",
       "6915  99105  img/image_6916.png      1   \n",
       "6913  99104  img/image_6914.png      1   \n",
       "\n",
       "                                                   text  \n",
       "6984  YOU'RE THE BEST AROUND. NOTHING'S EVER GONNA K...  \n",
       "6961                       NIGHTMARES Are made of this.  \n",
       "6935  . - DC OR MARVEL? MEME MADE BY THE FB PG DC/MA...  \n",
       "6915  EUROPE We have to cancel this match Snowing is...  \n",
       "6913  DAD. WHAT'S TAKING THE GAME WINNING SHOT? I DO...  "
      ]
     },
     "execution_count": 83,
     "metadata": {},
     "output_type": "execute_result"
    }
   ],
   "source": [
    "aug_train.head()"
   ]
  },
  {
   "cell_type": "code",
   "execution_count": 84,
   "id": "cdd21dd2",
   "metadata": {},
   "outputs": [
    {
     "data": {
      "text/plain": [
       "(8843, 4)"
      ]
     },
     "execution_count": 84,
     "metadata": {},
     "output_type": "execute_result"
    }
   ],
   "source": [
    "aug_train.shape"
   ]
  },
  {
   "cell_type": "code",
   "execution_count": 85,
   "id": "afa168fa",
   "metadata": {},
   "outputs": [],
   "source": [
    "aug_train.to_json('C:\\\\Users\\\\yshen\\\\Documents\\\\Georgia Tech\\\\4\\\\Deep Learning\\\\p\\\\train.jsonl', orient='records', lines=True)"
   ]
  },
  {
   "cell_type": "code",
   "execution_count": null,
   "id": "bb8d95b3",
   "metadata": {},
   "outputs": [],
   "source": []
  },
  {
   "cell_type": "code",
   "execution_count": 87,
   "id": "212241fc",
   "metadata": {},
   "outputs": [],
   "source": [
    "import shutil"
   ]
  },
  {
   "cell_type": "code",
   "execution_count": 88,
   "id": "a122562e",
   "metadata": {},
   "outputs": [],
   "source": [
    "names=selected['image_name'].to_list()"
   ]
  },
  {
   "cell_type": "code",
   "execution_count": 89,
   "id": "7759b845",
   "metadata": {},
   "outputs": [],
   "source": [
    "for name in names:\n",
    "    a=shutil.copy('C:\\\\Users\\\\yshen\\\\Documents\\\\Georgia Tech\\\\4\\\\Deep Learning\\\\p\\\\Memotion\\\\archive\\\\memotion_dataset_7k\\\\images\\\\'+name, 'C:\\\\Users\\\\yshen\\\\Documents\\\\Georgia Tech\\\\4\\\\Deep Learning\\\\p\\\\add')"
   ]
  },
  {
   "cell_type": "code",
   "execution_count": null,
   "id": "a77b196d",
   "metadata": {},
   "outputs": [],
   "source": []
  },
  {
   "cell_type": "code",
   "execution_count": 90,
   "id": "8ace2b8f",
   "metadata": {},
   "outputs": [],
   "source": [
    "from PIL import Image"
   ]
  },
  {
   "cell_type": "code",
   "execution_count": 91,
   "id": "60a5f2e9",
   "metadata": {},
   "outputs": [],
   "source": [
    "for name in names:\n",
    "    \n",
    "    if name[-3::]=='jpg':\n",
    "    \n",
    "        im = Image.open(r'C:\\\\Users\\\\yshen\\\\Documents\\\\Georgia Tech\\\\4\\\\Deep Learning\\\\p\\\\add\\\\'+name)\n",
    "        im.save(r'C:\\\\Users\\\\yshen\\\\Documents\\\\Georgia Tech\\\\4\\\\Deep Learning\\\\p\\\\add_png\\\\'+name[:-3]+\"png\")\n",
    "        \n",
    "    elif name[-3::]=='JPG':\n",
    "        im = Image.open(r'C:\\\\Users\\\\yshen\\\\Documents\\\\Georgia Tech\\\\4\\\\Deep Learning\\\\p\\\\add\\\\'+name)\n",
    "        im.save(r'C:\\\\Users\\\\yshen\\\\Documents\\\\Georgia Tech\\\\4\\\\Deep Learning\\\\p\\\\add_png\\\\'+name[:-3]+\"png\")\n",
    "        \n",
    "    elif name[-4::]=='jpeg':\n",
    "        im = Image.open(r'C:\\\\Users\\\\yshen\\\\Documents\\\\Georgia Tech\\\\4\\\\Deep Learning\\\\p\\\\add\\\\'+name)\n",
    "        im.save(r'C:\\\\Users\\\\yshen\\\\Documents\\\\Georgia Tech\\\\4\\\\Deep Learning\\\\p\\\\add_png\\\\'+name[:-4]+'png')\n",
    "    \n",
    "    else:\n",
    "        im = Image.open(r'C:\\\\Users\\\\yshen\\\\Documents\\\\Georgia Tech\\\\4\\\\Deep Learning\\\\p\\\\add\\\\'+name)\n",
    "        im.save(r'C:\\\\Users\\\\yshen\\\\Documents\\\\Georgia Tech\\\\4\\\\Deep Learning\\\\p\\\\add_png\\\\'+name)"
   ]
  },
  {
   "cell_type": "code",
   "execution_count": null,
   "id": "acf21b41",
   "metadata": {},
   "outputs": [],
   "source": []
  },
  {
   "cell_type": "code",
   "execution_count": null,
   "id": "0e792664",
   "metadata": {},
   "outputs": [],
   "source": []
  },
  {
   "cell_type": "code",
   "execution_count": null,
   "id": "da906387",
   "metadata": {},
   "outputs": [],
   "source": []
  }
 ],
 "metadata": {
  "kernelspec": {
   "display_name": "Python 3 (ipykernel)",
   "language": "python",
   "name": "python3"
  },
  "language_info": {
   "codemirror_mode": {
    "name": "ipython",
    "version": 3
   },
   "file_extension": ".py",
   "mimetype": "text/x-python",
   "name": "python",
   "nbconvert_exporter": "python",
   "pygments_lexer": "ipython3",
   "version": "3.8.8"
  }
 },
 "nbformat": 4,
 "nbformat_minor": 5
}
